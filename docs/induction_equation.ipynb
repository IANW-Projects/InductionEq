{
 "cells": [
  {
   "cell_type": "markdown",
   "metadata": {},
   "source": [
    "This project is licensed under the terms of the Creative Commons CC BY-NC-ND 3.0 license."
   ]
  },
  {
   "cell_type": "markdown",
   "metadata": {},
   "source": [
    "# Induction Equation\n",
    "\n",
    "The magnetic induction equation is usually written in non-dimensional form as\n",
    "\n",
    "$$\n",
    "  \\partial_t B\n",
    "  =\n",
    "  \\underbrace{\\nabla \\times (u \\times B)}_{\\text{transport term}}\n",
    "  \\underbrace{- \\nabla \\times \\biggl( \\frac{\\nabla \\times B}{\\varrho} \\times B \\biggr)}_{\\text{Hall term}}\n",
    "  \\underbrace{- \\nabla \\times (\\eta \\nabla \\times B)}_{\\text{resistive term}},\n",
    "$$\n",
    "\n",
    "where $B$ is the magnetic field, $u$ the particle velocity, $\\varrho$ the particle density,\n",
    "$\\eta$ the scalar and non-negative resistivity, and $\\nabla \\times B$ the curl\n",
    "of $B$. If not mentioned otherwise, all functions depend on time $t \\in (0,T)$\n",
    "and space $x = (x_1,x_2,x_3) \\in \\Omega \\subseteq \\mathbb{R}^3$. The first term on the\n",
    "right hand side is often called *transport term*, the second one is the *Hall term*,\n",
    "and the last one is the *resistive term*.\n",
    "In general, the induction equation is supplemented with the divergence constraint\n",
    "$\\operatorname{div} B = 0$ on the magnetic field. Of course, suitable\n",
    "initial and boundary conditions have to be given.\n",
    "\n",
    "The induction equation can be used as a part of a larger\n",
    "physical model, e.g. some form of (ideal, resistive, Hall, multifluid, ...) MHD\n",
    "equations. Then, there are additional equations determining the particle density and\n",
    "velocity. Considering the induction equation as a\n",
    "model on its own, the quantities $u$, $\\varrho$, and $\\eta$ are given. Depending on\n",
    "the physical modelling assumptions, the resistive and/or Hall term on the right\n",
    "hand side of the induction equation may be dropped or other terms may be added\n",
    "to model, e.g. electron inertia effects.\n",
    "\n",
    "Using $\\operatorname{div} (\\nabla \\times \\cdot) = 0$, the divergence constraint \n",
    "$\\operatorname{div} B = 0$ will be automatically fulfilled if the initial condition\n",
    "$B^0$ satisfies it, all functions are sufficiently smooth, and boundaries are ignored.\n",
    "\n",
    "The (semi-) discretisations implemented in this repository have been derived to be\n",
    "*energy stable*, i.e. they are based on the energy method. Physically, it can be motivated\n",
    "as follows. The magnetic energy is proportional to $|B|^2$ and fulfils a\n",
    "secondary balance law that can be determined using the induction equation,\n",
    "since $\\partial_t |B|^2 = 2 B \\cdot \\partial_t B$\n",
    "for sufficiently smooth solutions. Boundary conditions have to be given such that\n",
    "the magnetic energy remains bounded and can be estimated by given initial and\n",
    "boundary data. This behavior should hold for both the PDE at the continuous level\n",
    "and the discrete variant.\n",
    "\n",
    "In order to mimic estimates obtained from the energy method semidiscretely,\n",
    "summation by parts (SBP) derivative operators will be used. The weak imposition of\n",
    "boundary conditions is mimicked via simultaneous approximation terms (SATs).\n",
    "Although SBP operators have been developed in the context of finite difference (FD)\n",
    "methods and this setting will be used here, they can also be found in various other\n",
    "frameworks including finite volume (FV), discontinuous Galerkin (DG), and\n",
    "the recent flux reconstruction/correction procedure via reconstruction framework.\n",
    "Here, FD methods are implemented.\n"
   ]
  }
 ],
 "metadata": {
  "kernelspec": {
   "display_name": "Python 2",
   "language": "python",
   "name": "python2"
  },
  "language_info": {
   "codemirror_mode": {
    "name": "ipython",
    "version": 2
   },
   "file_extension": ".py",
   "mimetype": "text/x-python",
   "name": "python",
   "nbconvert_exporter": "python",
   "pygments_lexer": "ipython2",
   "version": "2.7.13"
  }
 },
 "nbformat": 4,
 "nbformat_minor": 0
}
